{
 "cells": [
  {
   "cell_type": "markdown",
   "metadata": {},
   "source": [
    "$$Machine Learning$$"
   ]
  },
  {
   "cell_type": "markdown",
   "metadata": {},
   "source": [
    "$Selecting Data for Modeling$\n",
    "\n",
    "Import pandas and read the data from the csv file.Use dot notation to select the prediction target and use a column list to select the necessary features."
   ]
  },
  {
   "cell_type": "code",
   "execution_count": 23,
   "metadata": {},
   "outputs": [
    {
     "data": {
      "text/plain": [
       "Index(['ADDRESS', 'SUBURB', 'PRICE', 'BEDROOMS', 'BATHROOMS', 'GARAGE',\n",
       "       'LAND_AREA', 'FLOOR_AREA', 'BUILD_YEAR', 'CBD_DIST', 'NEAREST_STN',\n",
       "       'NEAREST_STN_DIST', 'DATE_SOLD', 'POSTCODE', 'LATITUDE', 'LONGITUDE',\n",
       "       'NEAREST_SCH', 'NEAREST_SCH_DIST', 'NEAREST_SCH_RANK'],\n",
       "      dtype='object')"
      ]
     },
     "execution_count": 23,
     "metadata": {},
     "output_type": "execute_result"
    }
   ],
   "source": [
    "import pandas as pd\n",
    "import matplotlib.pyplot as plt\n",
    "df=pd.read_csv(\"all_perth_310121.csv\")\n",
    "df.head()\n",
    "df.columns"
   ]
  },
  {
   "cell_type": "markdown",
   "metadata": {},
   "source": [
    "Select the column we want to predict and assign it(by convention) to y(the prediction target)."
   ]
  },
  {
   "cell_type": "code",
   "execution_count": 24,
   "metadata": {},
   "outputs": [],
   "source": [
    "y=df.PRICE#y is the target variable"
   ]
  },
  {
   "cell_type": "markdown",
   "metadata": {},
   "source": [
    "$Selecting Features$\n",
    "\n",
    "The columns that are inputted into our model (and later used to make predictions) are called \"features.\" In our case, those would be the columns used to determine the home price. Sometimes, you will use all columns except the target as features. Other times you'll be better off with fewer features."
   ]
  },
  {
   "cell_type": "markdown",
   "metadata": {},
   "source": [
    "We select multiple features by providing a list of column names inside brackets. Each item in that list should be a string (with quotes).By convention, this data is called X."
   ]
  },
  {
   "cell_type": "code",
   "execution_count": 36,
   "metadata": {},
   "outputs": [
    {
     "data": {
      "text/html": [
       "<div>\n",
       "<style scoped>\n",
       "    .dataframe tbody tr th:only-of-type {\n",
       "        vertical-align: middle;\n",
       "    }\n",
       "\n",
       "    .dataframe tbody tr th {\n",
       "        vertical-align: top;\n",
       "    }\n",
       "\n",
       "    .dataframe thead th {\n",
       "        text-align: right;\n",
       "    }\n",
       "</style>\n",
       "<table border=\"1\" class=\"dataframe\">\n",
       "  <thead>\n",
       "    <tr style=\"text-align: right;\">\n",
       "      <th></th>\n",
       "      <th>BEDROOMS</th>\n",
       "      <th>BATHROOMS</th>\n",
       "      <th>LAND_AREA</th>\n",
       "      <th>LATITUDE</th>\n",
       "      <th>LONGITUDE</th>\n",
       "    </tr>\n",
       "  </thead>\n",
       "  <tbody>\n",
       "    <tr>\n",
       "      <th>count</th>\n",
       "      <td>33656.000000</td>\n",
       "      <td>33656.000000</td>\n",
       "      <td>33656.000000</td>\n",
       "      <td>33656.000000</td>\n",
       "      <td>33656.000000</td>\n",
       "    </tr>\n",
       "    <tr>\n",
       "      <th>mean</th>\n",
       "      <td>3.659110</td>\n",
       "      <td>1.823063</td>\n",
       "      <td>2740.644016</td>\n",
       "      <td>-31.960664</td>\n",
       "      <td>115.879265</td>\n",
       "    </tr>\n",
       "    <tr>\n",
       "      <th>std</th>\n",
       "      <td>0.752038</td>\n",
       "      <td>0.587427</td>\n",
       "      <td>16693.513215</td>\n",
       "      <td>0.177780</td>\n",
       "      <td>0.118137</td>\n",
       "    </tr>\n",
       "    <tr>\n",
       "      <th>min</th>\n",
       "      <td>1.000000</td>\n",
       "      <td>1.000000</td>\n",
       "      <td>61.000000</td>\n",
       "      <td>-32.472979</td>\n",
       "      <td>115.582730</td>\n",
       "    </tr>\n",
       "    <tr>\n",
       "      <th>25%</th>\n",
       "      <td>3.000000</td>\n",
       "      <td>1.000000</td>\n",
       "      <td>503.000000</td>\n",
       "      <td>-32.068437</td>\n",
       "      <td>115.789763</td>\n",
       "    </tr>\n",
       "    <tr>\n",
       "      <th>50%</th>\n",
       "      <td>4.000000</td>\n",
       "      <td>2.000000</td>\n",
       "      <td>682.000000</td>\n",
       "      <td>-31.933231</td>\n",
       "      <td>115.854198</td>\n",
       "    </tr>\n",
       "    <tr>\n",
       "      <th>75%</th>\n",
       "      <td>4.000000</td>\n",
       "      <td>2.000000</td>\n",
       "      <td>838.000000</td>\n",
       "      <td>-31.843818</td>\n",
       "      <td>115.970722</td>\n",
       "    </tr>\n",
       "    <tr>\n",
       "      <th>max</th>\n",
       "      <td>10.000000</td>\n",
       "      <td>16.000000</td>\n",
       "      <td>999999.000000</td>\n",
       "      <td>-31.457450</td>\n",
       "      <td>116.343201</td>\n",
       "    </tr>\n",
       "  </tbody>\n",
       "</table>\n",
       "</div>"
      ],
      "text/plain": [
       "           BEDROOMS     BATHROOMS      LAND_AREA      LATITUDE     LONGITUDE\n",
       "count  33656.000000  33656.000000   33656.000000  33656.000000  33656.000000\n",
       "mean       3.659110      1.823063    2740.644016    -31.960664    115.879265\n",
       "std        0.752038      0.587427   16693.513215      0.177780      0.118137\n",
       "min        1.000000      1.000000      61.000000    -32.472979    115.582730\n",
       "25%        3.000000      1.000000     503.000000    -32.068437    115.789763\n",
       "50%        4.000000      2.000000     682.000000    -31.933231    115.854198\n",
       "75%        4.000000      2.000000     838.000000    -31.843818    115.970722\n",
       "max       10.000000     16.000000  999999.000000    -31.457450    116.343201"
      ]
     },
     "execution_count": 36,
     "metadata": {},
     "output_type": "execute_result"
    }
   ],
   "source": [
    "x=df[['BEDROOMS', 'BATHROOMS','LAND_AREA','LATITUDE','LONGITUDE']]\n",
    "x.describe()"
   ]
  },
  {
   "cell_type": "markdown",
   "metadata": {},
   "source": [
    "$Building Your Model$\n",
    "\n",
    "We use scikit-learn(sklearn) library to create models.It is the most popular library for modeling the types of data typically stored in DataFrames.The steps to building and using a model are:\n",
    "\n",
    "- Define:\n",
    "    What type of model will it be? A decision tree? Some other type of model? Some other parameters of the model type are specified too.\n",
    "- Fit: \n",
    "    Capture patterns from provided data. This is the heart of modeling.\n",
    "- Predict: \n",
    "    Just what it sounds like\n",
    "- Evaluate:\n",
    "    Determine how accurate the model's predictions are."
   ]
  },
  {
   "cell_type": "code",
   "execution_count": 38,
   "metadata": {},
   "outputs": [],
   "source": [
    "from sklearn.tree import DecisionTreeRegressor\n",
    "\n",
    "price_model=DecisionTreeRegressor(random_state=1)#random_state is used to get the same result every time we run the code,ignoring the randomness involved when choosing the feature for splitting into two leaves.\n",
    "price_model.fit(x,y);#captures patterns"
   ]
  },
  {
   "cell_type": "markdown",
   "metadata": {},
   "source": [
    "We now have a fitted model that we can use to make predictions.In practice, you'll want to make predictions for new data rather than the data we already know. But we'll make predictions for the first few rows of the training data to see how the predict function works."
   ]
  },
  {
   "cell_type": "code",
   "execution_count": 48,
   "metadata": {},
   "outputs": [
    {
     "name": "stdout",
     "output_type": "stream",
     "text": [
      "Prediction data\n",
      "   BEDROOMS  BATHROOMS  LAND_AREA   LATITUDE   LONGITUDE\n",
      "0         4          2        600 -32.115900  115.842450\n",
      "1         3          2        351 -32.193470  115.859554\n",
      "2         3          1        719 -32.120578  115.993579\n",
      "3         2          1        651 -31.900547  116.038009\n",
      "4         4          1        466 -31.885790  115.947780\n",
      "0    565000\n",
      "1    365000\n",
      "2    287000\n",
      "3    255000\n",
      "4    325000\n",
      "Name: PRICE, dtype: int64\n",
      "[565000. 365000. 287000. 255000. 325000.]\n"
     ]
    }
   ],
   "source": [
    "print(\"Prediction data\")\n",
    "print(x.head())\n",
    "print(df.iloc[:5]['PRICE'])\n",
    "print(price_model.predict(x.head()))"
   ]
  },
  {
   "cell_type": "markdown",
   "metadata": {},
   "source": [
    "$Model$ $Validation$"
   ]
  },
  {
   "cell_type": "markdown",
   "metadata": {},
   "source": [
    "You'll need to check if your model is good or not for almost all models you create. Usually, the best way to measure if a model is good is to see if its predictions match what really happens. This is called predictive accuracy."
   ]
  },
  {
   "cell_type": "markdown",
   "metadata": {},
   "source": [
    "First,we find error via the Mean Absolute Error(MAE) metric. The MAE is the average of the absolute differences between predictions and actual values. It gives you an idea of how wrong the predictions were."
   ]
  },
  {
   "cell_type": "code",
   "execution_count": 49,
   "metadata": {},
   "outputs": [
    {
     "data": {
      "text/plain": [
       "104.80180849378019"
      ]
     },
     "execution_count": 49,
     "metadata": {},
     "output_type": "execute_result"
    }
   ],
   "source": [
    "from sklearn.metrics import mean_absolute_error\n",
    "\n",
    "predicted_prices=price_model.predict(x)\n",
    "mean_absolute_error(y,predicted_prices)"
   ]
  },
  {
   "cell_type": "markdown",
   "metadata": {},
   "source": [
    "BUT,THIS IS WRONG!!\n",
    "The score we got is from using the same houses to make and test the model, which can be misleading.\n",
    "\n",
    "For example, our model might learn from our specific data that green doors mean expensive houses, making it seem accurate. But in reality, door color doesn't affect house price.\n",
    "\n",
    "The scikit-learn library has a function train_test_split to break up the data into two pieces. We'll use some of that data as training data to fit the model, and we'll use the other data as validation data to calculate mean_absolute_error.\n",
    "So, we test the model on new, unseen data, called validation data, to see how well it really works.\n"
   ]
  },
  {
   "cell_type": "code",
   "execution_count": 50,
   "metadata": {},
   "outputs": [
    {
     "name": "stdout",
     "output_type": "stream",
     "text": [
      "147037.874613739\n"
     ]
    }
   ],
   "source": [
    "from sklearn.model_selection import train_test_split\n",
    "\n",
    "train_X,val_X,train_y,val_y=train_test_split(x,y,random_state=0)\n",
    "new_price_model=DecisionTreeRegressor()\n",
    "new_price_model.fit(train_X,train_y)\n",
    "val_predictions=new_price_model.predict(val_X)\n",
    "print(mean_absolute_error(val_y,val_predictions))\n"
   ]
  },
  {
   "cell_type": "markdown",
   "metadata": {},
   "source": [
    "$Underfitting$ $and$ $Overfitting$"
   ]
  },
  {
   "cell_type": "markdown",
   "metadata": {},
   "source": []
  }
 ],
 "metadata": {
  "kernelspec": {
   "display_name": "Python 3",
   "language": "python",
   "name": "python3"
  },
  "language_info": {
   "codemirror_mode": {
    "name": "ipython",
    "version": 3
   },
   "file_extension": ".py",
   "mimetype": "text/x-python",
   "name": "python",
   "nbconvert_exporter": "python",
   "pygments_lexer": "ipython3",
   "version": "3.12.0"
  }
 },
 "nbformat": 4,
 "nbformat_minor": 2
}
