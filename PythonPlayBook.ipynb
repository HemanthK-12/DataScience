{
 "cells": [
  {
   "cell_type": "code",
   "execution_count": null,
   "metadata": {},
   "outputs": [],
   "source": [
    "def least_difference(a, b, c):\n",
    "     \"\"\"Return the smallest difference between any two numbers among a, b and c.\"\"\"\n",
    "     diff1 = abs(a - b)\n",
    "     diff2 = abs(b - c)\n",
    "     diff3 = abs(a - c)\n",
    "     return min(diff1, diff2, diff3)"
   ]
  },
  {
   "cell_type": "code",
   "execution_count": null,
   "metadata": {},
   "outputs": [],
   "source": [
    "print(1, 2, 3, sep=' < ')\n",
    "round(float(num), ndigits=2)"
   ]
  },
  {
   "cell_type": "markdown",
   "metadata": {},
   "source": [
    "LISTS\n",
    "Lists are same like arrays in c++ but they can contain different types of data"
   ]
  },
  {
   "cell_type": "code",
   "execution_count": null,
   "metadata": {},
   "outputs": [],
   "source": [
    "hands = [['J', 'Q', 'K'], ['2', '2', '2'], ['6', 'A', 'K']]\n",
    "my_favourite_things = [32, 'raindrops on roses', help,[1,'w',54],\"lalala\"]\n",
    "my_favourite_things[1:3]\n",
    "len(hands)\n",
    "sorted(hands)\n",
    "sum(hands)\n",
    "hands.append(['7', '7', '7'])\n",
    "hands.pop()\n",
    "hands.index(3)\n",
    "3 in hands"
   ]
  },
  {
   "cell_type": "markdown",
   "metadata": {},
   "source": [
    "TUPLES"
   ]
  },
  {
   "cell_type": "markdown",
   "metadata": {},
   "source": [
    "TUPLES\n",
    "Same as lists but they are immutable and need parentheses while declaring them"
   ]
  },
  {
   "cell_type": "code",
   "execution_count": null,
   "metadata": {},
   "outputs": [],
   "source": [
    "t=(1,2,3)\n",
    "t=1,2,3 #both are same\n",
    "my_favourite_things = (32, 'raindrops on roses', help,[1,'w',54],\"lalala\")\n",
    "# my_favourite_things[0] = 31 # ERROR as tuples are immutable\n",
    "x=0.0124\n",
    "x.as_integer_ratio()#returns the ratio of the number as TUPLE"
   ]
  },
  {
   "cell_type": "markdown",
   "metadata": {},
   "source": [
    "LOOPS"
   ]
  },
  {
   "cell_type": "code",
   "execution_count": null,
   "metadata": {},
   "outputs": [],
   "source": [
    "for planet in planets:\n",
    "    print(planet, end=' ')\n",
    "for i in range(n):\n",
    "    print(i, end=' ')\n",
    "print(end=' ')#used to replicate System.out.print() in python as opposed to println"
   ]
  },
  {
   "cell_type": "markdown",
   "metadata": {},
   "source": [
    "LIST COMPREHENSIONS"
   ]
  },
  {
   "cell_type": "code",
   "execution_count": null,
   "metadata": {},
   "outputs": [],
   "source": [
    "squares = [n**2 for n in range(10)]\n",
    "#this gives the o/p [0, 1, 4, 9, 16, 25, 36, 49, 64, 81]\n",
    "loud_short_planets = [planet.upper() + '!' for planet in planets if len(planet) < 6]"
   ]
  },
  {
   "cell_type": "markdown",
   "metadata": {},
   "source": [
    "STRINGS"
   ]
  },
  {
   "cell_type": "code",
   "execution_count": null,
   "metadata": {},
   "outputs": [],
   "source": [
    "# print('Pluto's a planet!')\n",
    "#here, the 's is considered as the end of the string and the rest is considered as a variable\n",
    "#to rectify this,we write\n",
    "print('Pluto\\'s a planet!') #wherev \\s is used to escape the 's\n",
    "# Triple quoted strings can be used to create multi-line strings or to include special characters literally.\n",
    "example = \"\"\"This is a multi-line string.\n",
    "It can span across multiple lines.\n",
    "It can also include special characters like \\n and \\t without escaping them.\"\"\"\n",
    "print(example)"
   ]
  },
  {
   "cell_type": "markdown",
   "metadata": {},
   "source": [
    "Strings can be used as lists\n",
    "planet = 'Pluto'\n",
    "print(planet[0])#O/P= 'P'\n",
    "BUT,It is immutable"
   ]
  },
  {
   "cell_type": "code",
   "execution_count": null,
   "metadata": {},
   "outputs": [],
   "source": [
    "str.upper()#returns whole string to upper case\n",
    "str.lower()#returns whole string to lower case\n",
    "str.index('ha')#returns index of the substring\n",
    "str.startswith('h')#checks if the string starts with the given substring\n",
    "str.endswith('h')#checks if the string ends with the given substring\n",
    "str.split()#returns a list of words split wherever it is whitespace\n",
    "str.split(\"-\")#returns a list of words split wherever it is -\n",
    "'/'.join([month, day, year])#joins the list of strings with the given string"
   ]
  },
  {
   "cell_type": "code",
   "execution_count": null,
   "metadata": {},
   "outputs": [],
   "source": [
    "planet + \", you'll always be the \" + str(position) + \"th planet to me.\"\n",
    "\"{}, you'll always be the {}th planet to me.\".format(planet, position)\n",
    "\"{} weighs about {:.2} kilograms ({:.3%} of Earth's mass). It is home to {:,} Plutonians.\".format(\n",
    "    planet, pluto_mass, pluto_mass / earth_mass, population,\n",
    ")"
   ]
  },
  {
   "cell_type": "markdown",
   "metadata": {},
   "source": [
    "DICTIONARIES"
   ]
  },
  {
   "cell_type": "code",
   "execution_count": null,
   "metadata": {},
   "outputs": [],
   "source": [
    "numbers = {key:value,key2:value2,key3:value3}\n",
    "numbers[key1]#gives value1\n",
    "number[key1]=value11#changes the value of key1 to value11\n",
    "numbers[key4]=value4#adds this key value pair to the dictionary\n",
    "'Saturn' in planet_to_initial#checks if the key is present in the dictionary\n",
    "dict.items()#returns the list of key value pairs\n",
    "dict.keys()#returns the list of keys\n",
    "dict.values()#returns the list of values"
   ]
  },
  {
   "cell_type": "markdown",
   "metadata": {},
   "source": [
    "IMPORTS"
   ]
  },
  {
   "cell_type": "markdown",
   "metadata": {},
   "source": [
    "IMPORTS"
   ]
  },
  {
   "cell_type": "code",
   "execution_count": null,
   "metadata": {},
   "outputs": [],
   "source": [
    "import math as mt\n",
    "mt.pi"
   ]
  },
  {
   "cell_type": "code",
   "execution_count": null,
   "metadata": {},
   "outputs": [],
   "source": [
    "from math import *\n",
    "print(pi, log(32, 2))"
   ]
  },
  {
   "cell_type": "markdown",
   "metadata": {},
   "source": [
    "But,for more than one import,import only the required ones"
   ]
  },
  {
   "cell_type": "code",
   "execution_count": null,
   "metadata": {},
   "outputs": [],
   "source": [
    "from math import log, pi\n",
    "from numpy import asarray"
   ]
  }
 ],
 "metadata": {
  "kernelspec": {
   "display_name": "Python 3",
   "language": "python",
   "name": "python3"
  },
  "language_info": {
   "codemirror_mode": {
    "name": "ipython",
    "version": 3
   },
   "file_extension": ".py",
   "mimetype": "text/x-python",
   "name": "python",
   "nbconvert_exporter": "python",
   "pygments_lexer": "ipython3",
   "version": "3.8.5"
  }
 },
 "nbformat": 4,
 "nbformat_minor": 4
}
